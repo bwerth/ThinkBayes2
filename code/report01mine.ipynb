{
 "cells": [
  {
   "cell_type": "code",
   "execution_count": 1,
   "metadata": {
    "collapsed": true
   },
   "outputs": [],
   "source": [
    "from __future__ import print_function, division\n",
    "\n",
    "% matplotlib inline\n",
    "\n",
    "from thinkbayes2 import Hist, Pmf, Suite\n",
    "from sympy import symbols"
   ]
  },
  {
   "cell_type": "markdown",
   "metadata": {},
   "source": [
    "Suppose there are two full bowls of cookies. Bowl #1 has 10 chocolate chip \n",
    "and 30 plain cookies, while bowl #2 has 20 of each. Our friend Fred picks \n",
    "a bowl at random, and then picks a cookie at random. We may assume there is\n",
    "no reason to believe Fred treats one bowl differently from another, \n",
    "likewise for the cookies. The cookie turns out to be a plain one. How \n",
    "probable is it that Fred picked it out of Bowl #1?"
   ]
  },
  {
   "cell_type": "markdown",
   "metadata": {},
   "source": [
    "First, I defined the hypotheses as being the cookie was from bowl 1 and the\n",
    "cookie was from bowl 2. The chances of picking each bowl independent of\n",
    "data are equal, and p(H) is defined as such (line one). After, I multiplied\n",
    "the likelihood of picking a plain cookie from each bowl, 75 percent for bowl one (line two) and 50 percent (line three) for bowl two, by the previously defined p(H). Finally, I normalized (line four) and printed the results (line five)."
   ]
  },
  {
   "cell_type": "code",
   "execution_count": 13,
   "metadata": {
    "collapsed": false
   },
   "outputs": [
    {
     "name": "stdout",
     "output_type": "stream",
     "text": [
      "Bowl1 0.6\n",
      "Bowl2 0.4\n"
     ]
    }
   ],
   "source": [
    "pmf = Pmf(dict(Bowl1 = 1,Bowl2 = 1)) #line one\n",
    "pmf['Bowl1'] *= .75 #line two\n",
    "pmf['Bowl2'] *= .5 #line three\n",
    "pmf.Normalize() #line four\n",
    "pmf.Print() #line five"
   ]
  },
  {
   "cell_type": "markdown",
   "metadata": {},
   "source": [
    "Suppose you're on a game show, and you're given the choice of three doors: \n",
    "Behind one door is a car; behind the others, goats. You pick a door, say \n",
    "Door A [but the door is not opened], and the host, who knows what's behind \n",
    "the doors, opens another door, say Door B, which has a goat. He then says \n",
    "to you, \"Do you want to pick Door C?\" Is it to your advantage to switch \n",
    "your choice? He opens B with probability p and C with probability 1-p."
   ]
  },
  {
   "cell_type": "markdown",
   "metadata": {},
   "source": [
    "Because the answer for this problem will be written in terms of a variables, a variable needs to be defined first (line one). Because each of the doors has an equal probability of holding the car alone, the pmf is initialized with A, B, and C having equal weight (line two). The likelihoods are then multiplied by the p(H). The probability of the host opening door B if the car is behind door A is p as stated in the problem (line three). The host cannot open door B if the car is behind door B, so the likelihood is zero (line four). The host must open door B if the car is behind door C, so the probability is 1 there (line five). Finally, as always, I normalized and printed the result (line five and six)."
   ]
  },
  {
   "cell_type": "code",
   "execution_count": 3,
   "metadata": {
    "collapsed": false
   },
   "outputs": [
    {
     "name": "stdout",
     "output_type": "stream",
     "text": [
      "A 0.333333333333333*p/(0.333333333333333*p + 0.333333333333333)\n",
      "B 0\n",
      "C 0.333333333333333/(0.333333333333333*p + 0.333333333333333)\n"
     ]
    }
   ],
   "source": [
    "p = symbols('p') #line one\n",
    "pmf = Pmf('ABC') #line two\n",
    "pmf['A'] *= p #line three\n",
    "pmf['B'] *= 0 #line four\n",
    "pmf['C'] *= 1 #line five\n",
    "pmf.Normalize() #line six\n",
    "pmf.Print() #line seven"
   ]
  },
  {
   "cell_type": "markdown",
   "metadata": {},
   "source": [
    "According to the CDC, Compared to nonsmokers, men who smoke are about 23 \n",
    "times more likely to develop lung cancer and women who smoke are about 13 \n",
    "times more likely.'' Also, among adults in the U.S. in 2014:\n",
    "\n",
    "    Nearly 19 of every 100 adult men (18.8%) Nearly 15 \n",
    "    of every 100 adult women (14.8%)\n",
    "\n",
    "If you learn that a woman has been diagnosed with lung cancer, and you know\n",
    "nothing else about her, what is the probability that she is a smoker?"
   ]
  },
  {
   "cell_type": "markdown",
   "metadata": {},
   "source": [
    "The p(H) is defined as given by the problem statement in the pmf \n",
    "initialization (line one). The likelihoods, multiplied by the p(H) values are 13 and 1\n",
    "for smokers and nonsmokers respectively because women are 13 times more \n",
    "likely to get lung cancer if they smoke (line two and three). Finally, I normalize the result\n",
    "and print the result (line four and five)."
   ]
  },
  {
   "cell_type": "code",
   "execution_count": 5,
   "metadata": {
    "collapsed": false
   },
   "outputs": [
    {
     "name": "stdout",
     "output_type": "stream",
     "text": [
      "Nonsmoker 0.306916426513\n",
      "Smoker 0.693083573487\n"
     ]
    }
   ],
   "source": [
    "pmf = Pmf(dict(Smoker = 14.8, Nonsmoker = 85.2)) #line one\n",
    "pmf['Smoker'] *= 13 #line two\n",
    "pmf['Nonsmoker'] *= 1 #line three\n",
    "pmf.Normalize() #line four\n",
    "pmf.Print() #line five\n"
   ]
  },
  {
   "cell_type": "markdown",
   "metadata": {},
   "source": [
    "The blue M&M was introduced in 1995.  Before then, the color mix in a bag \n",
    "of plain M&Ms was (30% Brown, 20% Yellow, 20% Red, 10% Green, 10% Orange, \n",
    "10% Tan).  Afterward it was (24% Blue , 20% Green, 16% Orange, 14% Yellow, \n",
    "13% Red, 13% Brown). \n",
    "\n",
    "A friend of mine has two bags of M&Ms, and he tells me that one is from \n",
    "1994 and one from 1996.  He won't tell me which is which, but he gives me \n",
    "one M&M from each bag.  One is yellow and one is green.  What is the \n",
    "probability that the yellow M&M came from the 1994 bag?"
   ]
  },
  {
   "cell_type": "markdown",
   "metadata": {},
   "source": [
    "For this problem, I defined Mixa as the case where the yellow is in the\n",
    "1994 bag and Mixb as the case where the yellow is in the 1996 bag (line one). Alone, the chances of each are equal, so the odds of each are 1 in the pmf  initialization. The likelihoods are the odds of the yellow and green candies for the respective mixes of each hypothesis multiplied together. As always, the likelihoods are multiplied by the p(H) values (line two and three). Finally, I normalize and print the results (line four and five)."
   ]
  },
  {
   "cell_type": "code",
   "execution_count": 7,
   "metadata": {
    "collapsed": false
   },
   "outputs": [
    {
     "name": "stdout",
     "output_type": "stream",
     "text": [
      "Mixa 0.740740740741\n",
      "Mixb 0.259259259259\n"
     ]
    }
   ],
   "source": [
    "pmf = Pmf(dict(Mixa = 1,Mixb = 1)) #line one\n",
    "pmf['Mixa'] *= .2*.2 #line two\n",
    "pmf['Mixb'] *= .14*.1 #line three\n",
    "pmf.Normalize() #line four\n",
    "pmf.Print() #line five"
   ]
  },
  {
   "cell_type": "markdown",
   "metadata": {},
   "source": [
    "Elvis Presley had a twin brother who died at birth.  What is \n",
    "the probability that Elvis was an identical twin?"
   ]
  },
  {
   "cell_type": "markdown",
   "metadata": {},
   "source": [
    "First, the p(H) values are defined in the pmf initialization (line one). The odds of identical twins are 8 percent to the 92 percent chance of fraternal twins. The likelihoods of two boys is one half for identical twins because the only two options are two boys and two girls. The likelihood of two boys with fraternal twins is one quarter because there are four possible boy-girl combinations. In the code, the likelihoods are represented as 1 and .5 because it is only important that it is twice as likely that there will be two boys with identical twins. Finally, I multiplied the likelihoods, normalized, and printed the result (lines two through five)."
   ]
  },
  {
   "cell_type": "code",
   "execution_count": null,
   "metadata": {
    "collapsed": true
   },
   "outputs": [],
   "source": [
    "pmf = Pmf(dict(identical=8,fraternal=92)) #line one\n",
    "pmf['identical'] *= 1 #line two\n",
    "pmf['fraternal'] *= .5 #line three\n",
    "pmf.Normalize() #line four\n",
    "pmf.Print() #five"
   ]
  },
  {
   "cell_type": "markdown",
   "metadata": {},
   "source": [
    "According to a recent study, 25 percent of girls aged 3 are less than 36\n",
    "inches. Similarly, 10 percent of boys aged 3 are less than 36 inches tall. \n",
    "What are the odds that a 36 inch 3 year old is a boy?"
   ]
  },
  {
   "cell_type": "markdown",
   "metadata": {},
   "source": [
    "The chances are essentially equal of having a boy or girl, so the p(H)'s \n",
    "are both 1 (line one). The likelihoods are defined based on the data given in the problem. I multiplied the p(H)'s by the likelihoods, normalized, and printed the results (line two through four)."
   ]
  },
  {
   "cell_type": "code",
   "execution_count": 12,
   "metadata": {
    "collapsed": false
   },
   "outputs": [
    {
     "name": "stdout",
     "output_type": "stream",
     "text": [
      "Boy 0.285714285714\n",
      "Girl 0.714285714286\n"
     ]
    }
   ],
   "source": [
    "pmf = Pmf(dict(Boy=1,Girl=1)) #line one\n",
    "pmf['Boy'] *= .1 #line two\n",
    "pmf['Girl'] *= .25 #line three\n",
    "pmf.Normalize() #line four\n",
    "pmf.Print() #line five"
   ]
  },
  {
   "cell_type": "markdown",
   "metadata": {},
   "source": [
    "There is a national unemployment of 4.9 percent. The highest unemployment in the country is in New Mexico, which has an unemployment rate of 6.7 percent. What are the odds that an unemployed person is from New Mexico?"
   ]
  },
  {
   "cell_type": "markdown",
   "metadata": {},
   "source": [
    "First, I defined the p(H) for New Mexico and the nation based on the \n",
    "percentage of the national population that lives in New Mexico \n",
    "(.65 percent) (line one). After, I multiplied by the likelihoods, which were the NM and national unemployment rates (lines two and three). Finally, I normalized and printed the results (lines four and five)."
   ]
  },
  {
   "cell_type": "code",
   "execution_count": 14,
   "metadata": {
    "collapsed": false
   },
   "outputs": [
    {
     "name": "stdout",
     "output_type": "stream",
     "text": [
      "NM 0.00880945878974\n",
      "Nation 0.99119054121\n"
     ]
    }
   ],
   "source": [
    "pmf = Pmf(dict(NM=.0065,Nation=1)) #line one\n",
    "pmf['NM'] *= .067 #line two\n",
    "pmf['Nation'] *= .049 #line three\n",
    "pmf.Normalize() #line four\n",
    "pmf.Print() #line five"
   ]
  },
  {
   "cell_type": "code",
   "execution_count": null,
   "metadata": {
    "collapsed": true
   },
   "outputs": [],
   "source": []
  }
 ],
 "metadata": {
  "kernelspec": {
   "display_name": "Python 2",
   "language": "python",
   "name": "python2"
  },
  "language_info": {
   "codemirror_mode": {
    "name": "ipython",
    "version": 2
   },
   "file_extension": ".py",
   "mimetype": "text/x-python",
   "name": "python",
   "nbconvert_exporter": "python",
   "pygments_lexer": "ipython2",
   "version": "2.7.6"
  }
 },
 "nbformat": 4,
 "nbformat_minor": 0
}
