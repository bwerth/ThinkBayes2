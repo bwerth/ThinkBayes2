{
 "cells": [
  {
   "cell_type": "markdown",
   "metadata": {},
   "source": [
    "Bryan Werth \n",
    "Report03"
   ]
  },
  {
   "cell_type": "code",
   "execution_count": 2,
   "metadata": {
    "collapsed": true
   },
   "outputs": [],
   "source": [
    "from __future__ import print_function, division\n",
    "\n",
    "% matplotlib inline\n",
    "import warnings\n",
    "warnings.filterwarnings('ignore')\n",
    "\n",
    "import math\n",
    "import numpy as np\n",
    "from scipy.stats import poisson\n",
    "from scipy.special import binom\n",
    "\n",
    "from thinkbayes2 import Pmf, Cdf, Suite, Joint, MakeExponentialPmf, EvalExponentialCdf\n",
    "from thinkbayes2 import MakePoissonPmf as PoissonPmf\n",
    "from thinkbayes2 import MakeBinomialPmf, EvalPoissonPmf\n",
    "import thinkplot"
   ]
  },
  {
   "cell_type": "markdown",
   "metadata": {},
   "source": [
    "**Exercise** [This study from 2015](http://onlinelibrary.wiley.com/doi/10.1111/apt.13372/full) showed that many subjects diagnosed with non-celiac gluten sensitivity (NCGS) were not able to distinguish gluten flour from non-gluten flour in a blind challenge.\n",
    "\n",
    "Here is a description of the study:\n",
    "\n",
    ">\"We studied 35 non-CD subjects (31 females) that were on a gluten-free diet (GFD), in a double-blind challenge study. Participants were randomised to receive either gluten-containing ﬂour or gluten-free ﬂour for 10 days, followed by a 2-week washout period and were then crossed over. The main outcome measure was their ability to identify which ﬂour contained gluten.\n",
    ">\"The gluten-containing ﬂour was correctly identiﬁed by 12 participants (34%)...\"\n",
    "Since 12 out of 35 participants were able to identify the gluten flour, the authors conclude \"Double-blind gluten challenge induces symptom recurrence in just one-third of patients fulﬁlling the clinical diagnostic criteria for non-coeliac gluten sensitivity.\"\n",
    "\n",
    "This conclusion seems odd to me, because if none of the patients were sensitive to gluten, we would expect some of them to identify the gluten flour by chance.  So the results are consistent with the hypothesis that none of the subjects are actually gluten sensitive.\n",
    "\n",
    "We can use a Bayesian approach to interpret the results more precisely.  But first we have to make some modeling decisions.\n",
    "\n",
    "1. Of the 35 subjects, 12 identified the gluten flour based on resumption of symptoms while they were eating it.  Another 17 subjects wrongly identified the gluten-free flour based on their symptoms, and 6 subjects were unable to distinguish.  So each subject gave one of three responses.  To keep things simple I follow the authors of the study and lump together the second two groups; that is, I consider two groups: those who identified the gluten flour and those who did not.\n",
    "\n",
    "2. I assume (1) people who are actually gluten sensitive have a 95% chance of correctly identifying gluten flour under the challenge conditions, and (2) subjects who are not gluten sensitive have only a 40% chance of identifying the gluten flour by chance (and a 60% chance of either choosing the other flour or failing to distinguish).\n",
    "\n",
    "Using this model, estimate the number of study participants who are sensitive to gluten.  What is the most likely number?  What is the 95% credible interval?"
   ]
  },
  {
   "cell_type": "markdown",
   "metadata": {},
   "source": [
    "To solve this problem, we have to define a Gluten class with its own likelihood method. In this case, the hypothesis is the number of gluten sensitive people and the data is the people who identified and the people who did not identify gluten. We need to calculate the probability of some number of people identifying gluten given the number of glutenSensitive people. We calculate the totalParticipants and the number of people who aren't gluten sensitive (notGlutenSensitive). We then use the predefined MakeBinomialPmf to determine the probability of a certain number of successes in a number of trials given the probability of success. We create a BinomialPmf for both the probable number of people who identified gluten who are gluten sensitive and the number of people who identified gluten who are not gluten sensitive. I then add them and index to return the probability. To test, I define a reasonable prior range, update with the necessary data, and plot before finiding the credible interval as requested. "
   ]
  },
  {
   "cell_type": "code",
   "execution_count": 30,
   "metadata": {
    "collapsed": false
   },
   "outputs": [
    {
     "data": {
      "text/plain": [
       "(0, 8)"
      ]
     },
     "execution_count": 30,
     "metadata": {},
     "output_type": "execute_result"
    },
    {
     "data": {
      "image/png": "[encoded data removed]",
      "text/plain": [
       "<matplotlib.figure.Figure at 0x7f2419e68950>"
      ]
     },
     "metadata": {},
     "output_type": "display_data"
    }
   ],
   "source": [
    "class Gluten(Suite):\n",
    "    \n",
    "    def Likelihood(self, data, hypo):\n",
    "        glutenSensitive = hypo\n",
    "        identifiedGluten,didNotIdentifyGluten = data\n",
    "        totalParticipants = identifiedGluten+didNotIdentifyGluten\n",
    "        notGlutenSensitive = totalParticipants-glutenSensitive\n",
    "        glutenPmf = MakeBinomialPmf(glutenSensitive,.95)\n",
    "        nonGlutenPmf = MakeBinomialPmf(notGlutenSensitive,.4)\n",
    "        totalPmf = glutenPmf+nonGlutenPmf\n",
    "        return totalPmf[identifiedGluten]\n",
    "\n",
    "glutenStudy = Gluten(range(0,36))\n",
    "data = 12,23\n",
    "glutenStudy.Update(data)\n",
    "thinkplot.Pdf(glutenStudy)\n",
    "thinkplot.Config(xlabel='Number of People who are Gluten Sensitive',\n",
    "                ylabel='Probability')\n",
    "glutenStudy.CredibleInterval(95)"
   ]
  },
  {
   "cell_type": "markdown",
   "metadata": {},
   "source": [
    "**Exercise:** Suppose that goal scoring in hockey is well modeled by a \n",
    "Poisson process, and that the long-run goal-scoring rate of the\n",
    "Boston Bruins against the Vancouver Canucks is 2.9 goals per game.\n",
    "In their next game, what is the probability\n",
    "that the Bruins score exactly 3 goals?  Plot the PMF of `k`, the number\n",
    "of goals they score in a game."
   ]
  },
  {
   "cell_type": "markdown",
   "metadata": {},
   "source": [
    "For this problem, there is a predefined method that calculates the probability of three goals given the average number of goals per game. This is a method of the poisson class because it is modeled by a poisson process. "
   ]
  },
  {
   "cell_type": "code",
   "execution_count": 7,
   "metadata": {
    "collapsed": false
   },
   "outputs": [
    {
     "name": "stdout",
     "output_type": "stream",
     "text": [
      "0.223660218993\n"
     ]
    }
   ],
   "source": [
    "bruinsNextGame = poisson.pmf(3,2.9)\n",
    "print(bruinsNextGame)"
   ]
  },
  {
   "cell_type": "markdown",
   "metadata": {},
   "source": [
    "To define the actual pmf for this poisson process, we use the MakePoissonPmf method from the thinkbayes2 module. The second input is the maximum x value to be plotted. "
   ]
  },
  {
   "cell_type": "code",
   "execution_count": 32,
   "metadata": {
    "collapsed": false
   },
   "outputs": [
    {
     "data": {
      "image/png": "[encoded data removed]",
      "text/plain": [
       "<matplotlib.figure.Figure at 0x7f24480a4250>"
      ]
     },
     "metadata": {},
     "output_type": "display_data"
    }
   ],
   "source": [
    "bruinsNextGame = PoissonPmf(2.9,15)\n",
    "thinkplot.Pdf(bruinsNextGame)\n",
    "thinkplot.Config(xlabel='Goals',\n",
    "                ylabel='Probability')"
   ]
  },
  {
   "cell_type": "markdown",
   "metadata": {},
   "source": [
    "**Exercise:**  Assuming again that the goal scoring rate is 2.9, what is the probability of scoring a total of 9 goals in three games?  Answer this question two ways:\n",
    "\n",
    "1.  Compute the distribution of goals scored in one game and then add it to itself twice to find the distribution of goals scored in 3 games.\n",
    "\n",
    "2.  Use the Poisson PMF with parameter $\\lambda t$, where $\\lambda$ is the rate in goals per game and $t$ is the duration in games."
   ]
  },
  {
   "cell_type": "markdown",
   "metadata": {},
   "source": [
    "First, we define the pmf for one game as we did above using the PoissonPmf method. Then we add the defined pmf to itself three times and plot the result using the Pdf method from the thinkplot module. The result is the distribution of goals over three games"
   ]
  },
  {
   "cell_type": "code",
   "execution_count": 33,
   "metadata": {
    "collapsed": false
   },
   "outputs": [
    {
     "data": {
      "image/png": "[encoded data removed]",
      "text/plain": [
       "<matplotlib.figure.Figure at 0x7f2419ef4f50>"
      ]
     },
     "metadata": {},
     "output_type": "display_data"
    }
   ],
   "source": [
    "BruinsOneGame = PoissonPmf(2.9,15)\n",
    "BruinsThreeGames = BruinsOneGame+BruinsOneGame+BruinsOneGame\n",
    "thinkplot.Pdf(BruinsThreeGames)\n",
    "thinkplot.Config(xlabel='Goals',\n",
    "                ylabel='Probability')"
   ]
  },
  {
   "cell_type": "markdown",
   "metadata": {},
   "source": [
    "The second method is to multiply the average number of goals in one game by three and plot the result using the Pdf method. This method is slightly more concise because defining the Pmf is one line instead of two."
   ]
  },
  {
   "cell_type": "code",
   "execution_count": 34,
   "metadata": {
    "collapsed": false
   },
   "outputs": [
    {
     "data": {
      "image/png": "[encoded data removed]",
      "text/plain": [
       "<matplotlib.figure.Figure at 0x7f2419ee8fd0>"
      ]
     },
     "metadata": {},
     "output_type": "display_data"
    }
   ],
   "source": [
    "BruinsThreeGamesTwo = PoissonPmf(2.9*3,45)\n",
    "thinkplot.Pdf(BruinsThreeGamesTwo)\n",
    "thinkplot.Config(xlabel='Goals',\n",
    "                ylabel='Probability')"
   ]
  },
  {
   "cell_type": "markdown",
   "metadata": {},
   "source": [
    "**Exercise:** Suppose that the long-run goal-scoring rate of the\n",
    "Canucks against the Bruins is 2.6 goals per game.  Plot the distribution\n",
    "of `t`, the time until the Canucks score their first goal.\n",
    "In their next game, what is the probability that the Canucks score\n",
    "during the first period (that is, the first third of the game)?\n",
    "\n",
    "Hint: `thinkbayes2` provides `MakeExponentialPmf` and `EvalExponentialCdf`."
   ]
  },
  {
   "cell_type": "markdown",
   "metadata": {},
   "source": [
    "This question can be best answered by an exponential pmf model. First, we define the exponential pmf using the MakeExponentialPmf method from the ThinkBayes2 module. Lambda is 2.6 and the maximum x value we want to plot is 4. After, we plot the pmf for visualization. Finally we calculate the likelihood of scoring in the first period by using the EvalExponentialCdf method from the ThinkBayes2 module. Because we are referring to the first period, we only want to calculate the probability of scoring within the first third of the game. Also, lambda is 2.6, so the second input is 2.6. "
   ]
  },
  {
   "cell_type": "code",
   "execution_count": 35,
   "metadata": {
    "collapsed": false
   },
   "outputs": [
    {
     "data": {
      "text/plain": [
       "0.5796496154913181"
      ]
     },
     "execution_count": 35,
     "metadata": {},
     "output_type": "execute_result"
    },
    {
     "data": {
      "image/png": "[encoded data removed]",
      "text/plain": [
       "<matplotlib.figure.Figure at 0x7f2419d53650>"
      ]
     },
     "metadata": {},
     "output_type": "display_data"
    }
   ],
   "source": [
    "CanucksScores = MakeExponentialPmf(2.6,4)\n",
    "thinkplot.Pdf(CanucksScores)\n",
    "thinkplot.Config(xlabel='Goals',\n",
    "                ylabel='Probability')\n",
    "EvalExponentialCdf(1/3,2.6)"
   ]
  },
  {
   "cell_type": "markdown",
   "metadata": {},
   "source": [
    "**Exercise:** Assuming again that the goal scoring rate is 2.8, what is the probability that the Canucks get shut out (that is, don't score for an entire game)?  Answer this question two ways, using the CDF of the exponential distribution and the PMF of the Poisson distribution."
   ]
  },
  {
   "cell_type": "markdown",
   "metadata": {},
   "source": [
    "For the first method, we have to evaluate the probability of having 0 events in the length of time that we would normally have 2.8 events. To do this we use the EvalPoissonPmf method."
   ]
  },
  {
   "cell_type": "code",
   "execution_count": 15,
   "metadata": {
    "collapsed": false
   },
   "outputs": [
    {
     "name": "stdout",
     "output_type": "stream",
     "text": [
      "0.0608100626252\n"
     ]
    }
   ],
   "source": [
    "CanucksScoreOne = EvalPoissonPmf(0,2.8)\n",
    "print(CanucksScoreOne)"
   ]
  },
  {
   "cell_type": "markdown",
   "metadata": {},
   "source": [
    "For the second method, we can plot the exponential pmf using MakeExponentialPmf method from the thinkbayes2 module. We then use the EvalExponentialCdf as it has been previously used. We subtract the result from one because we can only calculate the probability that the canucks will score over the course of the game. One minus this is the probability they don't. "
   ]
  },
  {
   "cell_type": "code",
   "execution_count": 12,
   "metadata": {
    "collapsed": false
   },
   "outputs": [
    {
     "name": "stdout",
     "output_type": "stream",
     "text": [
      "0.0608100626252\n"
     ]
    },
    {
     "data": {
      "image/png": "[encoded data removed]",
      "text/plain": [
       "<matplotlib.figure.Figure at 0x7fa4b5f66150>"
      ]
     },
     "metadata": {},
     "output_type": "display_data"
    }
   ],
   "source": [
    "CanucksScore = MakeExponentialPmf(2.8,4)\n",
    "thinkplot.Pdf(CanucksScore)\n",
    "CanucksShutOut = 1-EvalExponentialCdf(1,2.8)\n",
    "print(CanucksShutOut)"
   ]
  },
  {
   "cell_type": "markdown",
   "metadata": {
    "collapsed": true
   },
   "source": [
    "**Exercise:** From [John D. Cook](http://www.johndcook.com/blog/2010/07/13/lincoln-index/)\n",
    "\n",
    "\"Suppose you have a tester who finds 20 bugs in your program. You want to estimate how many bugs are really in the program. You know there are at least 20 bugs, and if you have supreme confidence in your tester, you may suppose there are around 20 bugs. But maybe your tester isn't very good. Maybe there are hundreds of bugs. How can you have any idea how many bugs there are? There’s no way to know with one tester. But if you have two testers, you can get a good idea, even if you don’t know how skilled the testers are.\n",
    "\n",
    "Suppose two testers independently search for bugs. Let k1 be the number of errors the first tester finds and k2 the number of errors the second tester finds. Let c be the number of errors both testers find.  The Lincoln Index estimates the total number of errors as k1 k2 / c [I changed his notation to be consistent with mine].\"\n",
    "\n",
    "So if the first tester finds 20 bugs, the second finds 15, and they find 3 in common, we estimate that there are about 100 bugs.  What is the Bayesian estimate of the number of errors based on this data?"
   ]
  },
  {
   "cell_type": "markdown",
   "metadata": {},
   "source": [
    "I think I did something wrong with this problem given the result of the initial calculation, but I will explain the process. First, I defined a function for the probability of some number of positive results (k) in another number of trials (n) given the probability of a hit (p). This equation can be found online or in the thinkbayes textbook as seen in the binomial function. Next we define a Suite class with a likelihood function where we break the probability of the data given a hypothesis into three separate parts. The first part is the probability of the first debugger finding k1 number of errors. This is defined as the binomial helper function we have multiplied by the possible number of ways k1 errors could have been found. Prob2 is the same thing with the second debugger. ProbBoth is the probability of both debuggers finding the some number of errors in common c. This is the binomial helper for each of the debuggers and the number of errors in common. Following this I define the hypothesis range by using three nested for loops. I appended combinations of these three loops to a hypos list and used the list to define the prior. Finally, I updated with the known number of found errors and errors in common. I got a weird answer for this and could not find the problem, so I didn't pursue more specific answers."
   ]
  },
  {
   "cell_type": "code",
   "execution_count": 7,
   "metadata": {
    "collapsed": false
   },
   "outputs": [
    {
     "data": {
      "text/plain": [
       "7.0899341291143316e-21"
      ]
     },
     "execution_count": 7,
     "metadata": {},
     "output_type": "execute_result"
    }
   ],
   "source": [
    "#p**k * (1-p)**(n-k)\n",
    "\n",
    "def binomial(k, n, p):\n",
    "    \"\"\"Computes the rest of the binomial PMF.\n",
    "\n",
    "    k: number of hits\n",
    "    n: number of attempts\n",
    "    p: probability of a hit\n",
    "    \"\"\"\n",
    "    return p**k * (1-p)**(n-k)\n",
    "\n",
    "class Debugging(Suite):\n",
    "    \n",
    "    def Likelihood(self,data,hypo):\n",
    "        #data is k1 k2 c where k1 and k2 are the number of bugs found by \n",
    "        #each debugger and c is the number of common errors found\n",
    "        #hypo is p1 p2 n where p1 and p2 is the probability of each \n",
    "        #debugger finding an error and n is the number of bugs total\n",
    "        k1, k2, c = data\n",
    "        p1, p2, n = hypo\n",
    "        prob1 = binomial(k1,n,p1)*binom(n,k1)\n",
    "        prob2 = binomial(k2,n,p2)*binom(n,k2)\n",
    "        probBoth = binomial(c,n,p1)*binomial(c,n,p2)\n",
    "        return prob1*prob2*probBoth\n",
    "\n",
    "pRange = np.linspace(.01,.211,20)\n",
    "nRange = range(31,400)\n",
    "hypos = []\n",
    "for n in nRange:\n",
    "    for p1 in pRange:\n",
    "        for p2 in pRange:\n",
    "            hypos.append((p1, p2,n))\n",
    "            \n",
    "debugSuite = Debugging(hypos)\n",
    "debugSuite.Update((20,15,3))"
   ]
  },
  {
   "cell_type": "markdown",
   "metadata": {},
   "source": [
    "**Exercise:** To make the model of overtime more correct, we could update both suites with 0 goals in one game, before computing the predictive distribution of `t`.  Make this change and see what effect it has on the results."
   ]
  },
  {
   "cell_type": "markdown",
   "metadata": {},
   "source": [
    "The defined Hockey class, MakeGoalPmf function and initial definitions are all copied from the notebook. A further explanation of these aspects of the answer can be found also in the thinkbayes textbook chapter 9. First, I updated each suite as described in the question. I then used the MakeGoalPmf function to define the range of number of goals expected. I took the average of both of these and used it as the new lambda values for each suite. I then defined exponential pmfs for both and plotted them"
   ]
  },
  {
   "cell_type": "code",
   "execution_count": 10,
   "metadata": {
    "collapsed": false
   },
   "outputs": [
    {
     "data": {
      "image/png": "[encoded data removed]",
      "text/plain": [
       "<matplotlib.figure.Figure at 0x7f6e34a18550>"
      ]
     },
     "metadata": {},
     "output_type": "display_data"
    }
   ],
   "source": [
    "from thinkbayes2 import MakeNormalPmf\n",
    "from thinkbayes2 import EvalPoissonPmf\n",
    "\n",
    "class Hockey(Suite):\n",
    "    \"\"\"Represents hypotheses about the scoring rate for a team.\"\"\"\n",
    "\n",
    "    def __init__(self, label=None):\n",
    "        \"\"\"Initializes the Hockey object.\n",
    "\n",
    "        label: string\n",
    "        \"\"\"\n",
    "        mu = 2.8\n",
    "        sigma = 0.3\n",
    "\n",
    "        pmf = MakeNormalPmf(mu, sigma, num_sigmas=4, n=101)\n",
    "        Suite.__init__(self, pmf, label=label)\n",
    "            \n",
    "    def Likelihood(self, data, hypo):\n",
    "        \"\"\"Computes the likelihood of the data under the hypothesis.\n",
    "\n",
    "        Evaluates the Poisson PMF for lambda and k.\n",
    "\n",
    "        hypo: goal scoring rate in goals per game\n",
    "        data: goals scored in one game\n",
    "        \"\"\"\n",
    "        lam = hypo\n",
    "        k = data\n",
    "        like = EvalPoissonPmf(k, lam)\n",
    "        return like\n",
    "    \n",
    "suite1 = Hockey('bruins')\n",
    "suite2 = Hockey('canucks')\n",
    "suite1.UpdateSet([0, 2, 8, 4])\n",
    "suite2.UpdateSet([1, 3, 1, 0])\n",
    "\n",
    "from thinkbayes2 import MakeMixture\n",
    "from thinkbayes2 import MakePoissonPmf\n",
    "\n",
    "def MakeGoalPmf(suite, high=10):\n",
    "    \"\"\"Makes the distribution of goals scored, given distribution of lam.\n",
    "\n",
    "    suite: distribution of goal-scoring rate\n",
    "    high: upper bound\n",
    "\n",
    "    returns: Pmf of goals per game\n",
    "    \"\"\"\n",
    "    metapmf = Pmf()\n",
    "\n",
    "    for lam, prob in suite.Items():\n",
    "        pmf = MakePoissonPmf(lam, high)\n",
    "        metapmf.Set(pmf, prob)\n",
    "\n",
    "    mix = MakeMixture(metapmf, label=suite.label)\n",
    "    return mix\n",
    "\n",
    "#My Answer Starts Here\n",
    "suite1.Update(0)\n",
    "suite2.Update(0)\n",
    "BruinsGoalUpdated = MakeGoalPmf(suite1)\n",
    "CanucksGoalUpdated = MakeGoalPmf(suite2)\n",
    "BruinsLambda = BruinsGoalUpdated.Mean()\n",
    "CanucksLambda = CanucksGoalUpdated.Mean()\n",
    "BruinsOvertime = MakeExponentialPmf(BruinsLambda,4)\n",
    "CanucksOvertime = MakeExponentialPmf(CanucksLambda,4)\n",
    "thinkplot.Pdf(BruinsOvertime)\n",
    "thinkplot.Pdf(CanucksOvertime)"
   ]
  },
  {
   "cell_type": "markdown",
   "metadata": {},
   "source": [
    "**Exercise:** In the final match of the 2014 FIFA World Cup, Germany defeated Argentina 1-0. What is the probability that Germany had the better team?  What is the probability that Germany would win a rematch?\n",
    "\n",
    "For a prior distribution on the goal-scoring rate for each team, use a gamma distribution with parameter 1.3."
   ]
  },
  {
   "cell_type": "markdown",
   "metadata": {},
   "source": [
    "To solve this problem, I defined a modified version of the Hockey class. In the init method, I defined a gamma prior as suggested in the problem. I used the MakeGammaPmf method. I used a range of possible x values for number of goals and the average number of goals of 1.3. I then called the Suite init method for the Gamma Pmf. I also defined a new likelihood method. In this likelihood method I used the predefined EvalPoissonPmf to find the likelihood of a given number of goals being scored in a game given an average number of goals per game. Finally I defined a suite for argentina and germany and updated them. "
   ]
  },
  {
   "cell_type": "code",
   "execution_count": 11,
   "metadata": {
    "collapsed": false
   },
   "outputs": [
    {
     "data": {
      "text/plain": [
       "0.26681443199784355"
      ]
     },
     "execution_count": 11,
     "metadata": {},
     "output_type": "execute_result"
    }
   ],
   "source": [
    "from thinkbayes2 import MakeGammaPmf\n",
    "from math import isnan\n",
    "\n",
    "class Soccers(Suite):\n",
    "    \"\"\"Represents hypotheses about the scoring rate for a team.\"\"\"\n",
    "\n",
    "    def __init__(self, label=None):\n",
    "        \"\"\"Initializes the Hockey object.\n",
    "           label: string\n",
    "        \"\"\"\n",
    "        xs = np.linspace(1, 8, 101)\n",
    "        pmf = MakeGammaPmf(xs, 1.3)\n",
    "        Suite.__init__(self, pmf, label=label)\n",
    "        \n",
    "    def Update(self, data):\n",
    "        \"\"\"Updates each hypothesis based on the data.\n",
    "\n",
    "        data: any representation of the data\n",
    "\n",
    "        returns: the normalizing constant\n",
    "        \"\"\"\n",
    "        for hypo in self.Values():\n",
    "            like = self.Likelihood(data, hypo)\n",
    "            self.Mult(hypo, like)\n",
    "        return self.Normalize()\n",
    "            \n",
    "    def Likelihood(self, data, hypo):\n",
    "        \"\"\"Computes the likelihood of the data under the hypothesis.\n",
    "\n",
    "        Evaluates the Poisson PMF for lambda and k.\n",
    "\n",
    "        hypo: goal scoring rate in goals per game\n",
    "        data: goals scored in one game\n",
    "        \"\"\"\n",
    "        lam = hypo\n",
    "        k = data\n",
    "        like = EvalPoissonPmf(k, lam)\n",
    "        return like\n",
    "\n",
    "Argentina = Soccers()\n",
    "Germany = Soccers()\n",
    "Argentina.Update(0)\n",
    "Germany.Update(1)\n"
   ]
  },
  {
   "cell_type": "markdown",
   "metadata": {},
   "source": [
    "**Exercise:** In the 2014 FIFA World Cup, Germany played Brazil in a semifinal match. Germany scored after 11 minutes and again at the 23 minute mark. At that point in the match, how many goals would you expect Germany to score after 90 minutes? What was the probability that they would score 5 more goals (as, in fact, they did)?\n",
    "\n",
    "Note: for this one you will need a new suite that provides a Likelihood function that takes as data the time between goals, rather than the number of goals in a game. "
   ]
  },
  {
   "cell_type": "markdown",
   "metadata": {},
   "source": [
    "First I defined a Soccer Suite with a new likelihood method. In this method I turned the time between goals into a fraction and used the EvalExponentialCdf to find the probability of the time between goals given the scoring rate. After this, I defined a prior from 0 to 10 as a reasonable range of possible goals. Then I initialized the Soccer Suite with this prior and updated for the time between goals. Then I printed the mean number of goals given the updates. I also calculated the chances that Germany scores more than 5 goals by using the predefined EvalExponentialCdf with an input of .2 which would mean a goal is scored at least every fifth of the game. "
   ]
  },
  {
   "cell_type": "code",
   "execution_count": 12,
   "metadata": {
    "collapsed": false
   },
   "outputs": [
    {
     "name": "stdout",
     "output_type": "stream",
     "text": [
      "7.11415112663\n",
      "0.758969121062\n"
     ]
    }
   ],
   "source": [
    "class Soccer(Suite):\n",
    "    \n",
    "    def Likelihood(self,data,hypo):\n",
    "        #The data is the time between goals\n",
    "        #The hypo is the scoring rate per game\n",
    "        \n",
    "        lam = hypo\n",
    "        t = data\n",
    "        tFraction = t/90.0\n",
    "        return EvalExponentialCdf(tFraction,lam)\n",
    "    \n",
    "prior = np.linspace(0,10)\n",
    "Germany = Soccer(prior)\n",
    "Germany.UpdateSet([11,12])\n",
    "print(Germany.Mean())\n",
    "print(EvalExponentialCdf(.2,Germany.Mean()))"
   ]
  },
  {
   "cell_type": "markdown",
   "metadata": {},
   "source": [
    "I am a big football fan. Earlier this year, my Patriots lost to the Bills 16-0 in a blowout loss. This was one of the first honest to goodness wins for the Bills against us in almost a decade. Given known information about past games against the Bills, what is the scoreline of the next game between the two teams going to be?"
   ]
  },
  {
   "cell_type": "markdown",
   "metadata": {},
   "source": [
    "For this problem, we start by redefining the init method with an input of the average number of goals, a standard deviation, and the number of standard deviations. We calculate this information using the scorelines from every Bills-Patriots game since January 1, 2000. A likelihood method can be defined similar to the likelihood method from the hockey class. We use EvalPoissonPmf to determine the probability of some number of goals being scored in a game given the average scoring rate for the team against the other team. Finally, we define and update iterations of the Football class for the Patriots and the Bills. We take the average of the distribution that results to determine the probable scoreline of 3-16 in favor of the Bills. If I was to pursue this further, a more accurate way of finding the probable scoreline would be to factor in data from the past five games instead of just the one from this season."
   ]
  },
  {
   "cell_type": "code",
   "execution_count": null,
   "metadata": {
    "collapsed": true
   },
   "outputs": [],
   "source": []
  },
  {
   "cell_type": "code",
   "execution_count": 28,
   "metadata": {
    "collapsed": false
   },
   "outputs": [
    {
     "data": {
      "text/plain": [
       "3.0409412490357925"
      ]
     },
     "execution_count": 28,
     "metadata": {},
     "output_type": "execute_result"
    }
   ],
   "source": [
    "from thinkbayes2 import MakeNormalPmf\n",
    "from thinkbayes2 import EvalPoissonPmf\n",
    "from thinkbayes2 import MakeMixture\n",
    "from thinkbayes2 import MakePoissonPmf\n",
    "\n",
    "class Football(Suite):\n",
    "    \"\"\"Represents hypotheses about the scoring rate for a team.\"\"\"\n",
    "\n",
    "    def __init__(self, mu, sigma, num_sigmas, label=None):\n",
    "        \"\"\"Initializes the Hockey object.\n",
    "\n",
    "        label: string\n",
    "        \"\"\"\n",
    "        pmf = MakeNormalPmf(mu, sigma, num_sigmas, n=101)\n",
    "        Suite.__init__(self, pmf, label=label)\n",
    "            \n",
    "    def Likelihood(self, data, hypo):\n",
    "        \"\"\"Computes the likelihood of the data under the hypothesis.\n",
    "\n",
    "        Evaluates the Poisson PMF for lambda and k.\n",
    "\n",
    "        hypo: goal scoring rate in goals per game\n",
    "        data: goals scored in one game\n",
    "        \"\"\"\n",
    "        lam = hypo\n",
    "        k = data\n",
    "        like = EvalPoissonPmf(k, lam)\n",
    "        if np.isnan(like):\n",
    "            print(k,lam)\n",
    "        return like\n",
    "\n",
    "Patriots = Football(27,12.45,2)\n",
    "Bills = Football(15.73,9.36,1)\n",
    "Patriots.Update(0)\n",
    "Bills.Update(16)\n",
    "Patriots.Mean()\n"
   ]
  },
  {
   "cell_type": "code",
   "execution_count": 29,
   "metadata": {
    "collapsed": false
   },
   "outputs": [
    {
     "data": {
      "text/plain": [
       "16.480398069592919"
      ]
     },
     "execution_count": 29,
     "metadata": {},
     "output_type": "execute_result"
    }
   ],
   "source": [
    "Bills.Mean()"
   ]
  },
  {
   "cell_type": "code",
   "execution_count": null,
   "metadata": {
    "collapsed": false
   },
   "outputs": [],
   "source": []
  },
  {
   "cell_type": "code",
   "execution_count": null,
   "metadata": {
    "collapsed": true
   },
   "outputs": [],
   "source": []
  }
 ],
 "metadata": {
  "kernelspec": {
   "display_name": "Python 2",
   "language": "python",
   "name": "python2"
  },
  "language_info": {
   "codemirror_mode": {
    "name": "ipython",
    "version": 2
   },
   "file_extension": ".py",
   "mimetype": "text/x-python",
   "name": "python",
   "nbconvert_exporter": "python",
   "pygments_lexer": "ipython2",
   "version": "2.7.6"
  }
 },
 "nbformat": 4,
 "nbformat_minor": 0
}
