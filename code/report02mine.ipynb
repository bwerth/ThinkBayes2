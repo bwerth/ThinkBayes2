{
 "cells": [
  {
   "cell_type": "code",
   "execution_count": 1,
   "metadata": {
    "collapsed": true
   },
   "outputs": [],
   "source": [
    "from __future__ import print_function, division\n",
    "\n",
    "import numpy as np\n",
    "\n",
    "import thinkbayes2\n",
    "from thinkbayes2 import Pmf, Cdf, Suite\n",
    "import thinkplot\n",
    "import scipy.stats as stats\n",
    "from sympy import symbols\n",
    "\n",
    "% matplotlib inline"
   ]
  },
  {
   "cell_type": "markdown",
   "metadata": {},
   "source": [
    "Exercise Suppose that instead of observing coin tosses directly, you measure the outcome using an instrument that is not always correct. Specifically, suppose there is a probability y that an actual heads is reported as tails, or actual tails reported as heads.\n",
    "\n",
    "Write a class that estimates the bias of a coin given a series of outcomes and the value of y.\n",
    "\n",
    "How does the spread of the posterior distribution depend on y?"
   ]
  },
  {
   "cell_type": "markdown",
   "metadata": {},
   "source": [
    "For this problem, we have to define a CoinFlip class that extends Suite. We need to redefine the init method because one of the key parameters is the accuracy of the result measurer. We extend the Suite and add self.y = y. We also have to define a new likelihood method that finds the probability of the data given the hypothesis. First we calculate the probability of heads by dividing the hypothesis by 100. If the flip results in heads, we multiply the probability of heads by the probability that the measurement is correct and add the probability of tails (1-probability of heads) times the probability that the measurement is wrong. If the flip results in tails, we multiply the probability that the measurement is wrong by the probability of heads and add the probability that the measurement is right and multiply it by the probability of tails. For testing, we define the prior as a range of values from 0 to 100 and define three coinflip classes with three different y values. We update all three with data and graph."
   ]
  },
  {
   "cell_type": "code",
   "execution_count": 2,
   "metadata": {
    "collapsed": false
   },
   "outputs": [
    {
     "data": {
      "image/png": "[encoded data removed]",
      "text/plain": [
       "<matplotlib.figure.Figure at 0x7f2b88e00550>"
      ]
     },
     "metadata": {},
     "output_type": "display_data"
    }
   ],
   "source": [
    "class CoinFlip(Suite):\n",
    "    \n",
    "    def __init__(self,prior,y):\n",
    "        Suite.__init__(self, prior)\n",
    "        self.y = y\n",
    "        \n",
    "    \n",
    "    def Likelihood(self,data,hypo):\n",
    "        #hypo is the chance of heads\n",
    "        #data is the results of measurement, either H or T\n",
    "        probData = hypo/100\n",
    "        if data == 'H':\n",
    "            return probData*self.y+(1-probData)*(1-self.y)\n",
    "        else:\n",
    "            return (1-probData)*self.y+probData*(1-self.y)\n",
    "\n",
    "prior = range(0,101)\n",
    "coinFlip = CoinFlip(prior,.5)\n",
    "coinFlip2 = CoinFlip(prior,.6)\n",
    "coinFlip3 = CoinFlip(prior,.7)\n",
    "for result in 'H'*140+'T'*110:\n",
    "    coinFlip.Update(result)\n",
    "    coinFlip2.Update(result)\n",
    "    coinFlip3.Update(result)\n",
    "thinkplot.Pdf(coinFlip)\n",
    "thinkplot.Pdf(coinFlip2)\n",
    "thinkplot.Pdf(coinFlip3)"
   ]
  },
  {
   "cell_type": "markdown",
   "metadata": {
    "collapsed": true
   },
   "source": [
    "Suppose other evidence had made you 90% confident of Oliver's guilt. How much would this exculpatory evince change your beliefs? What if you initially thought there was only a 10% chance of his guilt?\n",
    "\n",
    "Notice that evidence with the same strength has a different effect on probability, depending on where you started"
   ]
  },
  {
   "cell_type": "markdown",
   "metadata": {},
   "source": [
    "First, we define the likeliness of the data given the two hypotheses. After, we define a pmf with the preassumed 90 percent chance that he is guilty. After, we multiply the likelihoods by the p(D) values. Then we normalize and print the results. We can also calculate the probability using odds. First, we convert the probability of Oliver's guilt to odds and use it to calculate the adjusted odds of his guilt. We then convert back to probability and print."
   ]
  },
  {
   "cell_type": "code",
   "execution_count": 3,
   "metadata": {
    "collapsed": true
   },
   "outputs": [],
   "source": [
    "likelinessGuilty = .01 #probability of finding someone with bloodtype AB. \n",
    "likelinessNotguilty = 2*.6*.01 #chances of finding someone with bloodtype O multiplied by \n",
    "                               #probability of finding bloodtype AB by 2"
   ]
  },
  {
   "cell_type": "code",
   "execution_count": 4,
   "metadata": {
    "collapsed": false
   },
   "outputs": [
    {
     "name": "stdout",
     "output_type": "stream",
     "text": [
      "guilty 0.882352941176\n",
      "notguilty 0.117647058824\n"
     ]
    }
   ],
   "source": [
    "pmf = Pmf(dict(guilty=.9,notguilty=.1))\n",
    "pmf['guilty'] *= likelinessGuilty\n",
    "pmf['notguilty'] *= likelinessNotguilty\n",
    "pmf.Normalize()\n",
    "pmf.Print()"
   ]
  },
  {
   "cell_type": "code",
   "execution_count": 5,
   "metadata": {
    "collapsed": false
   },
   "outputs": [
    {
     "name": "stdout",
     "output_type": "stream",
     "text": [
      "0.882352941176\n"
     ]
    }
   ],
   "source": [
    "p = .9\n",
    "oddsP = p/(1-p)\n",
    "oddsGuilty = oddsP*(.01/likelinessNotguilty)\n",
    "probGuilty = oddsGuilty/(oddsGuilty+1)\n",
    "print(probGuilty)"
   ]
  },
  {
   "cell_type": "markdown",
   "metadata": {},
   "source": [
    "Exercise: Suppose I capture and tag 10 rock hyraxes. Some time later, I capture another 10 hyraxes and find that two of them are already tagged. How many hyraxes are there in this environment?\n",
    "\n",
    "As always with problems like this, we have to make some modeling assumptions.\n",
    "\n",
    "1) For simplicity, you can assume that the environment is reasonably isolated, so the number of hyraxes does not change between observations.\n",
    "\n",
    "2) And you can assume that each hyrax is equally likely to be captured during each phase of the experiment, regardless of whether it has been tagged. In reality, it is possible that tagged animals would avoid traps in the future, or possible that the same behavior that got them caught the first time makes them more likely to be caught again. But let's start simple.\n",
    "\n",
    "I suggest the following notation:\n",
    "\n",
    "    N: total population of hyraxes\n",
    "    K: number of hyraxes tagged in the first round\n",
    "    n: number of hyraxes caught in the second round\n",
    "    k: number of hyraxes in the second round that had been tagged\n",
    "\n",
    "So N is the hypothesis and (K, n, k) make up the data. The probability of the data, given the hypothesis, is the probability of finding k tagged hyraxes out of n if (in the population) K out of N are tagged.\n",
    "\n",
    "If you are familiar with the hypergeometric distribution, you can use the hypergeometric PMF to compute the likelihood function. Otherwise, you can figure it out using combinatorics.\n"
   ]
  },
  {
   "cell_type": "markdown",
   "metadata": {},
   "source": [
    "To solve this problem, we need to define a new Hyrax class that extends Suite. For this class, we need to define a new likelihood method. For this method, we take the K, n, and k values as defined above as data and define the N, also explained above, as the hypothesis. If the hypothesis is lower than the total number of tagged hyraxes, then the probability of the hypothesis is zero. Otherwise, the probability can be calculated by taking the hypergeometric distribution found by using the know hypothesis and data. To test, a range of possible hypotheses and the known data is defined. We define a hyrax class using the defined hypos and update it using the data. Finally, we plot the Pdf. "
   ]
  },
  {
   "cell_type": "code",
   "execution_count": 6,
   "metadata": {
    "collapsed": false
   },
   "outputs": [
    {
     "data": {
      "image/png": "[encoded data removed]",
      "text/plain": [
       "<matplotlib.figure.Figure at 0x7f2b7fc3f8d0>"
      ]
     },
     "metadata": {},
     "output_type": "display_data"
    }
   ],
   "source": [
    "class Hyraxes(Suite):\n",
    "    \n",
    "    def Likelihood(self, data, hypo):\n",
    "        K, n, k = data\n",
    "        if hypo < K + (n - k):\n",
    "            return 0\n",
    "        else:\n",
    "            return stats.hypergeom.pmf(k, hypo, K, n)\n",
    "        \n",
    "hypos = range(1,1000)\n",
    "data = 10,10,2\n",
    "hyraxes = Hyraxes(hypos)\n",
    "hyraxes.Update(data)\n",
    "thinkplot.Pdf(hyraxes)"
   ]
  },
  {
   "cell_type": "markdown",
   "metadata": {},
   "source": [
    "Exercise: At the 2016 Summer Olympics in the Women's Skeet event, Kim Rhode faced Wei Meng in the bronze medal match. They each hit 15 of 25 skeets, sending the match into sudden death. In the first round, both hit 1 of 2 skeets. In the next two rounds, they each hit 2 skeets. Finally, in the fourth round, Rhode hit 2 and Wei hit 1, so Rhode won the bronze medal, making her the first Summer Olympian to win an individual medal at six consecutive summer games.\n",
    "\n",
    "But after all that shooting, what is the probability that Rhode is actually a better shooter than Wei? If the same match were held again, what is the probability that Rhode would win?\n",
    "\n",
    "As always, you will have to make some modeling decisions, but one approach is to estimate, for each shooter, the probability of hitting a skeet. Then, to estimate the probability that Rhode is a better shooter, you can draw samples from the two posterior distributions and compare them. To estimate the probability of winning a rematch, you could draw samples from the posterior distributions and simulate a round of 25 shots."
   ]
  },
  {
   "cell_type": "markdown",
   "metadata": {},
   "source": [
    "I used a predefined Beta class as shown below to solve this problem. First, I defined a beta class iteration for both Meng and Rhode. I then updated each with the known number of hits and misses. To test, I ran through 100 tests of 25 attempts for each person in each test. I added up all the successes and averaged the number of successes per person. Finally, I printed the results."
   ]
  },
  {
   "cell_type": "code",
   "execution_count": 7,
   "metadata": {
    "collapsed": true
   },
   "outputs": [],
   "source": [
    "from scipy import special\n",
    "\n",
    "class Beta:\n",
    "    \"\"\"Represents a Beta distribution.\n",
    "\n",
    "    See http://en.wikipedia.org/wiki/Beta_distribution\n",
    "    \"\"\"\n",
    "    def __init__(self, alpha=1, beta=1, label=None):\n",
    "        \"\"\"Initializes a Beta distribution.\"\"\"\n",
    "        self.alpha = alpha\n",
    "        self.beta = beta\n",
    "        self.label = label if label is not None else '_nolegend_'\n",
    "\n",
    "    def Update(self, data):\n",
    "        \"\"\"Updates a Beta distribution.\n",
    "\n",
    "        data: pair of int (heads, tails)\n",
    "        \"\"\"\n",
    "        heads, tails = data\n",
    "        self.alpha += heads\n",
    "        self.beta += tails\n",
    "\n",
    "    def Mean(self):\n",
    "        \"\"\"Computes the mean of this distribution.\"\"\"\n",
    "        return self.alpha / (self.alpha + self.beta)\n",
    "\n",
    "    def MAP(self):\n",
    "        \"\"\"Computes the value with maximum a posteori probability.\"\"\"\n",
    "        a = self.alpha - 1\n",
    "        b = self.beta - 1\n",
    "        return a / (a + b)\n",
    "\n",
    "    def Random(self):\n",
    "        \"\"\"Generates a random variate from this distribution.\"\"\"\n",
    "        return random.betavariate(self.alpha, self.beta)\n",
    "\n",
    "    def Sample(self, n):\n",
    "        \"\"\"Generates a random sample from this distribution.\n",
    "\n",
    "        n: int sample size\n",
    "        \"\"\"\n",
    "        size = n,\n",
    "        return np.random.beta(self.alpha, self.beta, size)\n",
    "\n",
    "    def EvalPdf(self, x):\n",
    "        \"\"\"Evaluates the PDF at x.\"\"\"\n",
    "        return x ** (self.alpha - 1) * (1 - x) ** (self.beta - 1)\n",
    "\n",
    "    def MakePmf(self, steps=101, label=None):\n",
    "        \"\"\"Returns a Pmf of this distribution.\n",
    "\n",
    "        Note: Normally, we just evaluate the PDF at a sequence\n",
    "        of points and treat the probability density as a probability\n",
    "        mass.\n",
    "\n",
    "        But if alpha or beta is less than one, we have to be\n",
    "        more careful because the PDF goes to infinity at x=0\n",
    "        and x=1.  In that case we evaluate the CDF and compute\n",
    "        differences.\n",
    "\n",
    "        The result is a little funny, because the values at 0 and 1\n",
    "        are not symmetric.  Nevertheless, it is a reasonable discrete\n",
    "        model of the continuous distribution, and behaves well as\n",
    "        the number of values increases.\n",
    "        \"\"\"\n",
    "        if label is None and self.label is not None:\n",
    "            label = self.label\n",
    "\n",
    "        if self.alpha < 1 or self.beta < 1:\n",
    "            cdf = self.MakeCdf()\n",
    "            pmf = cdf.MakePmf()\n",
    "            return pmf\n",
    "\n",
    "        xs = [i / (steps - 1) for i in range(steps)]\n",
    "        probs = [self.EvalPdf(x) for x in xs]\n",
    "        pmf = Pmf(dict(zip(xs, probs)), label=label)\n",
    "        return pmf\n",
    "\n",
    "    def MakeCdf(self, steps=101):\n",
    "        \"\"\"Returns the CDF of this distribution.\"\"\"\n",
    "        xs = [i / (steps - 1) for i in range(steps)]\n",
    "        ps = special.betainc(self.alpha, self.beta, xs)\n",
    "        cdf = Cdf(xs, ps)\n",
    "        return cdf\n",
    "\n",
    "    def Percentile(self, ps):\n",
    "        \"\"\"Returns the given percentiles from this distribution.\n",
    "\n",
    "        ps: scalar, array, or list of [0-100]\n",
    "        \"\"\"\n",
    "        ps = np.asarray(ps) / 100\n",
    "        xs = special.betaincinv(self.alpha, self.beta, ps)\n",
    "        return xs\n"
   ]
  },
  {
   "cell_type": "code",
   "execution_count": 8,
   "metadata": {
    "collapsed": false
   },
   "outputs": [
    {
     "name": "stdout",
     "output_type": "stream",
     "text": [
      "16.573854941\n",
      "15.7822613711\n"
     ]
    },
    {
     "data": {
      "image/png": "[encoded data removed]",
      "text/plain": [
       "<matplotlib.figure.Figure at 0x7f2b7fa21350>"
      ]
     },
     "metadata": {},
     "output_type": "display_data"
    }
   ],
   "source": [
    "rhode = Beta()\n",
    "wei = Beta()\n",
    "rhode.Update((22,11))\n",
    "wei.Update((21,12))\n",
    "thinkplot.Pdf(rhode.MakePmf())\n",
    "thinkplot.Pdf(wei.MakePmf())\n",
    "rhodeScoreSumTotal = 0\n",
    "weiScoreSumTotal = 0\n",
    "for i in range(101):\n",
    "    rhodeScore = rhode.Sample(25)\n",
    "    rhodeScoreSum = np.sum(rhodeScore)\n",
    "    rhodeScoreSumTotal += rhodeScoreSum\n",
    "    weiScore = wei.Sample(25)\n",
    "    weiScoreSum = np.sum(weiScore)\n",
    "    weiScoreSumTotal += weiScoreSum\n",
    "rhodeTotal = rhodeScoreSumTotal/100\n",
    "weiTotal = weiScoreSumTotal/100\n",
    "print(rhodeTotal)\n",
    "print(weiTotal)"
   ]
  },
  {
   "cell_type": "markdown",
   "metadata": {},
   "source": [
    "     Alice and Bob are playing a game in which the first person to get 6 points wins. The way each point is decided is a little strange. The Casino has a pool table that Alice and Bob can't see. Before the game begins, the Casino rolls an initial ball onto the table, which comes to rest at a completely random position, which the Casino marks. Then, each point is decided by the Casino rolling another ball onto the table randomly. If it comes to rest to the left of the initial mark, Alice wins the point; to the right of the mark, Bob wins the point. The Casino reveals nothing to Alice and Bob except who won each point. \n",
    "\n",
    "    Clearly, the probability that Alice wins a point is the fraction of the table to the left of the mark—call this probability p; and Bob's probability of winning a point is 1 - p. Because the Casino rolled the initial ball to a random position, before any points were decided every value of p was equally probable. The mark is only set once per game, so p is the same for every point. \n",
    "\n",
    "    Imagine Alice is already winning 5 points to 3, and now she bets Bob that she's going to win. What are fair betting odds for Alice to offer Bob? That is, what is the expected probability that Alice will win?"
   ]
  },
  {
   "cell_type": "markdown",
   "metadata": {},
   "source": [
    "I solved this problem by defining a pmf where the chances of Alice or Bob winning are initially zero. I then multiplied by the respective likelihoods. For Alice winning, I multiplied p by 3 choose one because she has to win one more. I cubed Bob's probability of 1-p because he has to win three in a row. I then normalized and printed although I didn't get the right answer because of sympy issues."
   ]
  },
  {
   "cell_type": "code",
   "execution_count": 9,
   "metadata": {
    "collapsed": false
   },
   "outputs": [],
   "source": [
    "p = symbols('p')"
   ]
  },
  {
   "cell_type": "code",
   "execution_count": 10,
   "metadata": {
    "collapsed": false
   },
   "outputs": [
    {
     "ename": "TypeError",
     "evalue": "unsupported operand type(s) for *: 'Symbol' and 'rv_frozen'",
     "output_type": "error",
     "traceback": [
      "\u001b[1;31m---------------------------------------------------------------------------\u001b[0m",
      "\u001b[1;31mTypeError\u001b[0m                                 Traceback (most recent call last)",
      "\u001b[1;32m<ipython-input-10-a475b3e0bb13>\u001b[0m in \u001b[0;36m<module>\u001b[1;34m()\u001b[0m\n\u001b[0;32m      1\u001b[0m \u001b[0mpmf\u001b[0m \u001b[1;33m=\u001b[0m \u001b[0mPmf\u001b[0m\u001b[1;33m(\u001b[0m\u001b[0mdict\u001b[0m\u001b[1;33m(\u001b[0m\u001b[0maliceWins\u001b[0m\u001b[1;33m=\u001b[0m\u001b[1;36m1\u001b[0m\u001b[1;33m,\u001b[0m\u001b[0mbobWins\u001b[0m\u001b[1;33m=\u001b[0m\u001b[1;36m1\u001b[0m\u001b[1;33m)\u001b[0m\u001b[1;33m)\u001b[0m\u001b[1;33m\u001b[0m\u001b[0m\n\u001b[1;32m----> 2\u001b[1;33m \u001b[0mpmf\u001b[0m\u001b[1;33m[\u001b[0m\u001b[1;34m'aliceWins'\u001b[0m\u001b[1;33m]\u001b[0m \u001b[1;33m*=\u001b[0m \u001b[0mp\u001b[0m\u001b[1;33m*\u001b[0m\u001b[0mstats\u001b[0m\u001b[1;33m.\u001b[0m\u001b[0mbinom\u001b[0m\u001b[1;33m(\u001b[0m\u001b[1;36m3\u001b[0m\u001b[1;33m,\u001b[0m\u001b[1;36m1\u001b[0m\u001b[1;33m)\u001b[0m\u001b[1;33m\u001b[0m\u001b[0m\n\u001b[0m\u001b[0;32m      3\u001b[0m \u001b[0mpmf\u001b[0m\u001b[1;33m[\u001b[0m\u001b[1;34m'bobWins'\u001b[0m\u001b[1;33m]\u001b[0m \u001b[1;33m*=\u001b[0m \u001b[1;33m(\u001b[0m\u001b[1;36m1\u001b[0m\u001b[1;33m-\u001b[0m\u001b[0mp\u001b[0m\u001b[1;33m)\u001b[0m\u001b[1;33m**\u001b[0m\u001b[1;36m3\u001b[0m\u001b[1;33m\u001b[0m\u001b[0m\n\u001b[0;32m      4\u001b[0m \u001b[0mpmf\u001b[0m\u001b[1;33m.\u001b[0m\u001b[0mNormalize\u001b[0m\u001b[1;33m(\u001b[0m\u001b[1;33m)\u001b[0m\u001b[1;33m\u001b[0m\u001b[0m\n\u001b[0;32m      5\u001b[0m \u001b[0mpmf\u001b[0m\u001b[1;33m.\u001b[0m\u001b[0mPrint\u001b[0m\u001b[1;33m(\u001b[0m\u001b[1;33m)\u001b[0m\u001b[1;33m\u001b[0m\u001b[0m\n",
      "\u001b[1;31mTypeError\u001b[0m: unsupported operand type(s) for *: 'Symbol' and 'rv_frozen'"
     ]
    }
   ],
   "source": [
    "pmf = Pmf(dict(aliceWins=1,bobWins=1))\n",
    "pmf['aliceWins'] *= p*stats.binom(3,1)\n",
    "pmf['bobWins'] *= (1-p)**3\n",
    "pmf.Normalize()\n",
    "pmf.Print()"
   ]
  },
  {
   "cell_type": "markdown",
   "metadata": {},
   "source": [
    "A professional basketball player in the nba recently made 35 free throws out of the 40 he attempted in a span of ten games. How many free throws will he make if he attempts 6 free throws during his next game?"
   ]
  },
  {
   "cell_type": "markdown",
   "metadata": {},
   "source": [
    "I defined a beta method iteration called throwSuccess. I then updated it with the number of successes and failures over ten games. I plotted the Pdf that resulted. I also sampled 1000 attempts and averaged the success rate. Finally, I looped through 100 tests of 6 attempts each and averaged the results to find the average number of successes he would have in 6 attempts in one game."
   ]
  },
  {
   "cell_type": "code",
   "execution_count": null,
   "metadata": {
    "collapsed": false
   },
   "outputs": [],
   "source": [
    "throwSuccess = Beta()\n",
    "throwSuccess.Update((35,5))\n",
    "thinkplot.Pdf(throwSuccess.MakePmf())\n",
    "throwTest = throwSuccess.Sample(1000)\n",
    "throwTotal = 0\n",
    "for i in range(101):\n",
    "    throwSample = throwSuccess.Sample(6)\n",
    "    throwSum = np.sum(throwSample)\n",
    "    throwTotal += throwSum\n",
    "throwAverage = throwTotal/100\n",
    "print(throwAverage)\n",
    "print(np.mean(throwTest))"
   ]
  },
  {
   "cell_type": "code",
   "execution_count": 12,
   "metadata": {
    "collapsed": false
   },
   "outputs": [
    {
     "name": "stdout",
     "output_type": "stream",
     "text": [
      "0.430312998792\n",
      "0.4\n"
     ]
    },
    {
     "data": {
      "image/png": "[encoded data removed]",
      "text/plain": [
       "<matplotlib.figure.Figure at 0x7f2b7fa50a50>"
      ]
     },
     "metadata": {},
     "output_type": "display_data"
    }
   ],
   "source": [
    "throwSuccess = Beta()\n",
    "throwSuccess.Update((2,3))\n",
    "thinkplot.Pdf(throwSuccess.MakePmf())\n",
    "throwTest = throwSuccess.Sample(1000)\n",
    "aliens = throwSuccess.MakePmf()\n",
    "alien = aliens.MaximumLikelihood()\n",
    "print(np.mean(throwTest))\n",
    "print(alien)"
   ]
  },
  {
   "cell_type": "code",
   "execution_count": 13,
   "metadata": {
    "collapsed": false
   },
   "outputs": [
    {
     "name": "stdout",
     "output_type": "stream",
     "text": [
      "0.2\n"
     ]
    },
    {
     "data": {
      "image/png": "[encoded data removed]",
      "text/plain": [
       "<matplotlib.figure.Figure at 0x7f2b7fa08050>"
      ]
     },
     "metadata": {},
     "output_type": "display_data"
    }
   ],
   "source": [
    "throwSuccess = Beta()\n",
    "throwSuccess.Update((2,8))\n",
    "thinkplot.Pdf(throwSuccess.MakePmf())\n",
    "aliens = throwSuccess.MakePmf()\n",
    "alien = aliens.MaximumLikelihood()\n",
    "print(alien)"
   ]
  },
  {
   "cell_type": "code",
   "execution_count": 11,
   "metadata": {
    "collapsed": false
   },
   "outputs": [
    {
     "data": {
      "text/plain": [
       "0.4390099000000001"
      ]
     },
     "execution_count": 11,
     "metadata": {},
     "output_type": "execute_result"
    }
   ],
   "source": [
    "hypos = xrange(0,101)\n",
    "\n",
    "class AlienBlaster(Suite):\n",
    "    \n",
    "    def Likelihood(self,data,hypo):\n",
    "        probHit = hypo/100\n",
    "        numTests,numHits,tie = data\n",
    "        return (1-probHit)**4+((1-probHit)*(probHit))**2+(probHit)**4\n",
    "    \n",
    "alienblaster = AlienBlaster(hypos)\n",
    "alienblaster.Update(20)\n",
    "        "
   ]
  },
  {
   "cell_type": "code",
   "execution_count": null,
   "metadata": {
    "collapsed": true
   },
   "outputs": [],
   "source": []
  },
  {
   "cell_type": "code",
   "execution_count": null,
   "metadata": {
    "collapsed": true
   },
   "outputs": [],
   "source": []
  }
 ],
 "metadata": {
  "kernelspec": {
   "display_name": "Python 2",
   "language": "python",
   "name": "python2"
  },
  "language_info": {
   "codemirror_mode": {
    "name": "ipython",
    "version": 2
   },
   "file_extension": ".py",
   "mimetype": "text/x-python",
   "name": "python",
   "nbconvert_exporter": "python",
   "pygments_lexer": "ipython2",
   "version": "2.7.6"
  }
 },
 "nbformat": 4,
 "nbformat_minor": 0
}
